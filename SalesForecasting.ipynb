{
  "nbformat": 4,
  "nbformat_minor": 0,
  "metadata": {
    "colab": {
      "provenance": [],
      "authorship_tag": "ABX9TyPu40VdjrDRyftTPNbg44OQ"
    },
    "kernelspec": {
      "name": "python3",
      "display_name": "Python 3"
    },
    "language_info": {
      "name": "python"
    }
  },
  "cells": [
    {
      "cell_type": "code",
      "execution_count": 4,
      "metadata": {
        "id": "rzmsSCdmB3uL"
      },
      "outputs": [],
      "source": [
        "%pip install -Uq upgini catboost"
      ]
    },
    {
      "cell_type": "code",
      "source": [
        "import pandas as pd\n",
        "import numpy as np\n",
        "\n",
        "data = pd.read_csv('salesforcast.csv')\n",
        "data = data.sample(n = 19_000,random_state=0)\n",
        "data['store'] = data['store'].astype(str)\n",
        "data['item'] = data['item'].astype(str)\n",
        "\n",
        "\n",
        "data['date'] = pd.to_datetime(data['date'])\n",
        "data.sort_values('date',inplace = True)\n",
        "\n",
        "data.reset_index(inplace = True,drop = True)\n",
        "data.head()"
      ],
      "metadata": {
        "colab": {
          "base_uri": "https://localhost:8080/",
          "height": 206
        },
        "id": "Xg0LWEYDC_du",
        "outputId": "6ccaf2ba-8c2f-4b74-d714-54324b975587"
      },
      "execution_count": 5,
      "outputs": [
        {
          "output_type": "execute_result",
          "data": {
            "text/plain": [
              "        date store item  sales\n",
              "0 2013-01-01     7    5      5\n",
              "1 2013-01-01     4    9     19\n",
              "2 2013-01-01     1   33     37\n",
              "3 2013-01-01     3   41     14\n",
              "4 2013-01-01     5   24     26"
            ],
            "text/html": [
              "\n",
              "\n",
              "  <div id=\"df-750cc487-157d-4d8b-913d-2292cd14e4b1\">\n",
              "    <div class=\"colab-df-container\">\n",
              "      <div>\n",
              "<style scoped>\n",
              "    .dataframe tbody tr th:only-of-type {\n",
              "        vertical-align: middle;\n",
              "    }\n",
              "\n",
              "    .dataframe tbody tr th {\n",
              "        vertical-align: top;\n",
              "    }\n",
              "\n",
              "    .dataframe thead th {\n",
              "        text-align: right;\n",
              "    }\n",
              "</style>\n",
              "<table border=\"1\" class=\"dataframe\">\n",
              "  <thead>\n",
              "    <tr style=\"text-align: right;\">\n",
              "      <th></th>\n",
              "      <th>date</th>\n",
              "      <th>store</th>\n",
              "      <th>item</th>\n",
              "      <th>sales</th>\n",
              "    </tr>\n",
              "  </thead>\n",
              "  <tbody>\n",
              "    <tr>\n",
              "      <th>0</th>\n",
              "      <td>2013-01-01</td>\n",
              "      <td>7</td>\n",
              "      <td>5</td>\n",
              "      <td>5</td>\n",
              "    </tr>\n",
              "    <tr>\n",
              "      <th>1</th>\n",
              "      <td>2013-01-01</td>\n",
              "      <td>4</td>\n",
              "      <td>9</td>\n",
              "      <td>19</td>\n",
              "    </tr>\n",
              "    <tr>\n",
              "      <th>2</th>\n",
              "      <td>2013-01-01</td>\n",
              "      <td>1</td>\n",
              "      <td>33</td>\n",
              "      <td>37</td>\n",
              "    </tr>\n",
              "    <tr>\n",
              "      <th>3</th>\n",
              "      <td>2013-01-01</td>\n",
              "      <td>3</td>\n",
              "      <td>41</td>\n",
              "      <td>14</td>\n",
              "    </tr>\n",
              "    <tr>\n",
              "      <th>4</th>\n",
              "      <td>2013-01-01</td>\n",
              "      <td>5</td>\n",
              "      <td>24</td>\n",
              "      <td>26</td>\n",
              "    </tr>\n",
              "  </tbody>\n",
              "</table>\n",
              "</div>\n",
              "      <button class=\"colab-df-convert\" onclick=\"convertToInteractive('df-750cc487-157d-4d8b-913d-2292cd14e4b1')\"\n",
              "              title=\"Convert this dataframe to an interactive table.\"\n",
              "              style=\"display:none;\">\n",
              "\n",
              "  <svg xmlns=\"http://www.w3.org/2000/svg\" height=\"24px\"viewBox=\"0 0 24 24\"\n",
              "       width=\"24px\">\n",
              "    <path d=\"M0 0h24v24H0V0z\" fill=\"none\"/>\n",
              "    <path d=\"M18.56 5.44l.94 2.06.94-2.06 2.06-.94-2.06-.94-.94-2.06-.94 2.06-2.06.94zm-11 1L8.5 8.5l.94-2.06 2.06-.94-2.06-.94L8.5 2.5l-.94 2.06-2.06.94zm10 10l.94 2.06.94-2.06 2.06-.94-2.06-.94-.94-2.06-.94 2.06-2.06.94z\"/><path d=\"M17.41 7.96l-1.37-1.37c-.4-.4-.92-.59-1.43-.59-.52 0-1.04.2-1.43.59L10.3 9.45l-7.72 7.72c-.78.78-.78 2.05 0 2.83L4 21.41c.39.39.9.59 1.41.59.51 0 1.02-.2 1.41-.59l7.78-7.78 2.81-2.81c.8-.78.8-2.07 0-2.86zM5.41 20L4 18.59l7.72-7.72 1.47 1.35L5.41 20z\"/>\n",
              "  </svg>\n",
              "      </button>\n",
              "\n",
              "\n",
              "\n",
              "    <div id=\"df-af0dcf05-b810-4111-b86d-4c5d795ed371\">\n",
              "      <button class=\"colab-df-quickchart\" onclick=\"quickchart('df-af0dcf05-b810-4111-b86d-4c5d795ed371')\"\n",
              "              title=\"Suggest charts.\"\n",
              "              style=\"display:none;\">\n",
              "\n",
              "<svg xmlns=\"http://www.w3.org/2000/svg\" height=\"24px\"viewBox=\"0 0 24 24\"\n",
              "     width=\"24px\">\n",
              "    <g>\n",
              "        <path d=\"M19 3H5c-1.1 0-2 .9-2 2v14c0 1.1.9 2 2 2h14c1.1 0 2-.9 2-2V5c0-1.1-.9-2-2-2zM9 17H7v-7h2v7zm4 0h-2V7h2v10zm4 0h-2v-4h2v4z\"/>\n",
              "    </g>\n",
              "</svg>\n",
              "      </button>\n",
              "    </div>\n",
              "\n",
              "<style>\n",
              "  .colab-df-quickchart {\n",
              "    background-color: #E8F0FE;\n",
              "    border: none;\n",
              "    border-radius: 50%;\n",
              "    cursor: pointer;\n",
              "    display: none;\n",
              "    fill: #1967D2;\n",
              "    height: 32px;\n",
              "    padding: 0 0 0 0;\n",
              "    width: 32px;\n",
              "  }\n",
              "\n",
              "  .colab-df-quickchart:hover {\n",
              "    background-color: #E2EBFA;\n",
              "    box-shadow: 0px 1px 2px rgba(60, 64, 67, 0.3), 0px 1px 3px 1px rgba(60, 64, 67, 0.15);\n",
              "    fill: #174EA6;\n",
              "  }\n",
              "\n",
              "  [theme=dark] .colab-df-quickchart {\n",
              "    background-color: #3B4455;\n",
              "    fill: #D2E3FC;\n",
              "  }\n",
              "\n",
              "  [theme=dark] .colab-df-quickchart:hover {\n",
              "    background-color: #434B5C;\n",
              "    box-shadow: 0px 1px 3px 1px rgba(0, 0, 0, 0.15);\n",
              "    filter: drop-shadow(0px 1px 2px rgba(0, 0, 0, 0.3));\n",
              "    fill: #FFFFFF;\n",
              "  }\n",
              "</style>\n",
              "\n",
              "    <script>\n",
              "      async function quickchart(key) {\n",
              "        const containerElement = document.querySelector('#' + key);\n",
              "        const charts = await google.colab.kernel.invokeFunction(\n",
              "            'suggestCharts', [key], {});\n",
              "      }\n",
              "    </script>\n",
              "\n",
              "      <script>\n",
              "\n",
              "function displayQuickchartButton(domScope) {\n",
              "  let quickchartButtonEl =\n",
              "    domScope.querySelector('#df-af0dcf05-b810-4111-b86d-4c5d795ed371 button.colab-df-quickchart');\n",
              "  quickchartButtonEl.style.display =\n",
              "    google.colab.kernel.accessAllowed ? 'block' : 'none';\n",
              "}\n",
              "\n",
              "        displayQuickchartButton(document);\n",
              "      </script>\n",
              "      <style>\n",
              "    .colab-df-container {\n",
              "      display:flex;\n",
              "      flex-wrap:wrap;\n",
              "      gap: 12px;\n",
              "    }\n",
              "\n",
              "    .colab-df-convert {\n",
              "      background-color: #E8F0FE;\n",
              "      border: none;\n",
              "      border-radius: 50%;\n",
              "      cursor: pointer;\n",
              "      display: none;\n",
              "      fill: #1967D2;\n",
              "      height: 32px;\n",
              "      padding: 0 0 0 0;\n",
              "      width: 32px;\n",
              "    }\n",
              "\n",
              "    .colab-df-convert:hover {\n",
              "      background-color: #E2EBFA;\n",
              "      box-shadow: 0px 1px 2px rgba(60, 64, 67, 0.3), 0px 1px 3px 1px rgba(60, 64, 67, 0.15);\n",
              "      fill: #174EA6;\n",
              "    }\n",
              "\n",
              "    [theme=dark] .colab-df-convert {\n",
              "      background-color: #3B4455;\n",
              "      fill: #D2E3FC;\n",
              "    }\n",
              "\n",
              "    [theme=dark] .colab-df-convert:hover {\n",
              "      background-color: #434B5C;\n",
              "      box-shadow: 0px 1px 3px 1px rgba(0, 0, 0, 0.15);\n",
              "      filter: drop-shadow(0px 1px 2px rgba(0, 0, 0, 0.3));\n",
              "      fill: #FFFFFF;\n",
              "    }\n",
              "  </style>\n",
              "\n",
              "      <script>\n",
              "        const buttonEl =\n",
              "          document.querySelector('#df-750cc487-157d-4d8b-913d-2292cd14e4b1 button.colab-df-convert');\n",
              "        buttonEl.style.display =\n",
              "          google.colab.kernel.accessAllowed ? 'block' : 'none';\n",
              "\n",
              "        async function convertToInteractive(key) {\n",
              "          const element = document.querySelector('#df-750cc487-157d-4d8b-913d-2292cd14e4b1');\n",
              "          const dataTable =\n",
              "            await google.colab.kernel.invokeFunction('convertToInteractive',\n",
              "                                                     [key], {});\n",
              "          if (!dataTable) return;\n",
              "\n",
              "          const docLinkHtml = 'Like what you see? Visit the ' +\n",
              "            '<a target=\"_blank\" href=https://colab.research.google.com/notebooks/data_table.ipynb>data table notebook</a>'\n",
              "            + ' to learn more about interactive tables.';\n",
              "          element.innerHTML = '';\n",
              "          dataTable['output_type'] = 'display_data';\n",
              "          await google.colab.output.renderOutput(dataTable, element);\n",
              "          const docLink = document.createElement('div');\n",
              "          docLink.innerHTML = docLinkHtml;\n",
              "          element.appendChild(docLink);\n",
              "        }\n",
              "      </script>\n",
              "    </div>\n",
              "  </div>\n"
            ]
          },
          "metadata": {},
          "execution_count": 5
        }
      ]
    },
    {
      "cell_type": "code",
      "source": [
        "train = data[data['date']< '2017-01-01']\n",
        "test = data[data['date']>= '2017-01-01']"
      ],
      "metadata": {
        "id": "L0zITYoFGqiP"
      },
      "execution_count": 6,
      "outputs": []
    },
    {
      "cell_type": "code",
      "source": [
        "train_features = train.drop(columns='sales')\n",
        "train_target = train['sales']\n",
        "\n",
        "test_features = test.drop(columns='sales')\n",
        "test_target = test['sales']"
      ],
      "metadata": {
        "id": "Z9YfVDSPHdzv"
      },
      "execution_count": 7,
      "outputs": []
    },
    {
      "cell_type": "markdown",
      "source": [
        "# Enrich Feature"
      ],
      "metadata": {
        "id": "lV_hloHYKJ7Z"
      }
    },
    {
      "cell_type": "code",
      "source": [
        "from upgini import FeaturesEnricher,SearchKey\n",
        "from upgini.metadata import CVType\n",
        "\n",
        "enricher = FeaturesEnricher(\n",
        "    search_keys={\n",
        "        \"date\": SearchKey.DATE\n",
        "    },\n",
        "    cv = CVType.time_series\n",
        "\n",
        ")\n",
        "enricher.fit(train_features,\n",
        "             train_target,\n",
        "             eval_set = [(test_features,test_target)])"
      ],
      "metadata": {
        "colab": {
          "base_uri": "https://localhost:8080/",
          "height": 1000
        },
        "id": "14d3wV5HKNAQ",
        "outputId": "c0d7cb9e-33b3-4f46-c781-93321824c175"
      },
      "execution_count": 8,
      "outputs": [
        {
          "output_type": "display_data",
          "data": {
            "text/plain": [
              "<IPython.core.display.Javascript object>"
            ],
            "application/javascript": [
              "\n",
              "                        window.visitorId = import('https://openfpcdn.io/fingerprintjs/v3')\n",
              "                            .then(FingerprintJS => FingerprintJS.load())\n",
              "                            .then(fp => fp.get())\n",
              "                            .then(result => result.visitorId);\n",
              "                    "
            ]
          },
          "metadata": {}
        },
        {
          "output_type": "display_data",
          "data": {
            "text/plain": [
              "<IPython.core.display.Javascript object>"
            ],
            "application/javascript": [
              "\n",
              "                        window.visitorId = import('https://openfpcdn.io/fingerprintjs/v3')\n",
              "                            .then(FingerprintJS => FingerprintJS.load())\n",
              "                            .then(fp => fp.get())\n",
              "                            .then(result => result.visitorId);\n",
              "                    "
            ]
          },
          "metadata": {}
        },
        {
          "output_type": "display_data",
          "data": {
            "text/plain": [
              "<IPython.core.display.Javascript object>"
            ],
            "application/javascript": [
              "\n",
              "                        window.visitorId = import('https://openfpcdn.io/fingerprintjs/v3')\n",
              "                            .then(FingerprintJS => FingerprintJS.load())\n",
              "                            .then(fp => fp.get())\n",
              "                            .then(result => result.visitorId);\n",
              "                    "
            ]
          },
          "metadata": {}
        },
        {
          "output_type": "display_data",
          "data": {
            "text/plain": [
              "<IPython.core.display.Javascript object>"
            ],
            "application/javascript": [
              "\n",
              "                        window.visitorId = import('https://openfpcdn.io/fingerprintjs/v3')\n",
              "                            .then(FingerprintJS => FingerprintJS.load())\n",
              "                            .then(fp => fp.get())\n",
              "                            .then(result => result.visitorId);\n",
              "                    "
            ]
          },
          "metadata": {}
        },
        {
          "output_type": "display_data",
          "data": {
            "text/plain": [
              "<IPython.core.display.Javascript object>"
            ],
            "application/javascript": [
              "\n",
              "                        window.visitorId = import('https://openfpcdn.io/fingerprintjs/v3')\n",
              "                            .then(FingerprintJS => FingerprintJS.load())\n",
              "                            .then(fp => fp.get())\n",
              "                            .then(result => result.visitorId);\n",
              "                    "
            ]
          },
          "metadata": {}
        },
        {
          "output_type": "display_data",
          "data": {
            "text/plain": [
              "<IPython.core.display.Javascript object>"
            ],
            "application/javascript": [
              "\n",
              "                        window.visitorId = import('https://openfpcdn.io/fingerprintjs/v3')\n",
              "                            .then(FingerprintJS => FingerprintJS.load())\n",
              "                            .then(fp => fp.get())\n",
              "                            .then(result => result.visitorId);\n",
              "                    "
            ]
          },
          "metadata": {}
        },
        {
          "output_type": "display_data",
          "data": {
            "text/plain": [
              "<IPython.core.display.Javascript object>"
            ],
            "application/javascript": [
              "\n",
              "                        window.visitorId = import('https://openfpcdn.io/fingerprintjs/v3')\n",
              "                            .then(FingerprintJS => FingerprintJS.load())\n",
              "                            .then(fp => fp.get())\n",
              "                            .then(result => result.visitorId);\n",
              "                    "
            ]
          },
          "metadata": {}
        },
        {
          "output_type": "stream",
          "name": "stdout",
          "text": [
            "\n",
            "WARNING: Search started with DATE search key only\n",
            "Try to add other keys like the COUNTRY, POSTAL_CODE, PHONE NUMBER, EMAIL/HEM, IPv4 to your training dataset\n",
            "for search through all the available data sources.\n",
            "See docs https://github.com/upgini/upgini#-total-239-countries-and-up-to-41-years-of-history\n"
          ]
        },
        {
          "output_type": "display_data",
          "data": {
            "text/plain": [
              "<IPython.core.display.Javascript object>"
            ],
            "application/javascript": [
              "\n",
              "                        window.visitorId = import('https://openfpcdn.io/fingerprintjs/v3')\n",
              "                            .then(FingerprintJS => FingerprintJS.load())\n",
              "                            .then(fp => fp.get())\n",
              "                            .then(result => result.visitorId);\n",
              "                    "
            ]
          },
          "metadata": {}
        },
        {
          "output_type": "display_data",
          "data": {
            "text/plain": [
              "<IPython.core.display.Javascript object>"
            ],
            "application/javascript": [
              "\n",
              "                        window.visitorId = import('https://openfpcdn.io/fingerprintjs/v3')\n",
              "                            .then(FingerprintJS => FingerprintJS.load())\n",
              "                            .then(fp => fp.get())\n",
              "                            .then(result => result.visitorId);\n",
              "                    "
            ]
          },
          "metadata": {}
        },
        {
          "output_type": "display_data",
          "data": {
            "text/plain": [
              "<IPython.core.display.Javascript object>"
            ],
            "application/javascript": [
              "\n",
              "                        window.visitorId = import('https://openfpcdn.io/fingerprintjs/v3')\n",
              "                            .then(FingerprintJS => FingerprintJS.load())\n",
              "                            .then(fp => fp.get())\n",
              "                            .then(result => result.visitorId);\n",
              "                    "
            ]
          },
          "metadata": {}
        },
        {
          "output_type": "stream",
          "name": "stdout",
          "text": [
            "Detected task type: ModelTaskType.REGRESSION\n",
            "\n"
          ]
        },
        {
          "output_type": "display_data",
          "data": {
            "text/plain": [
              "<IPython.core.display.Javascript object>"
            ],
            "application/javascript": [
              "\n",
              "                        window.visitorId = import('https://openfpcdn.io/fingerprintjs/v3')\n",
              "                            .then(FingerprintJS => FingerprintJS.load())\n",
              "                            .then(fp => fp.get())\n",
              "                            .then(result => result.visitorId);\n",
              "                    "
            ]
          },
          "metadata": {}
        },
        {
          "output_type": "display_data",
          "data": {
            "text/plain": [
              "<IPython.core.display.Javascript object>"
            ],
            "application/javascript": [
              "\n",
              "                        window.visitorId = import('https://openfpcdn.io/fingerprintjs/v3')\n",
              "                            .then(FingerprintJS => FingerprintJS.load())\n",
              "                            .then(fp => fp.get())\n",
              "                            .then(result => result.visitorId);\n",
              "                    "
            ]
          },
          "metadata": {}
        },
        {
          "output_type": "display_data",
          "data": {
            "text/plain": [
              "<IPython.core.display.Javascript object>"
            ],
            "application/javascript": [
              "\n",
              "                        window.visitorId = import('https://openfpcdn.io/fingerprintjs/v3')\n",
              "                            .then(FingerprintJS => FingerprintJS.load())\n",
              "                            .then(fp => fp.get())\n",
              "                            .then(result => result.visitorId);\n",
              "                    "
            ]
          },
          "metadata": {}
        },
        {
          "output_type": "display_data",
          "data": {
            "text/plain": [
              "<IPython.core.display.Javascript object>"
            ],
            "application/javascript": [
              "\n",
              "                        window.visitorId = import('https://openfpcdn.io/fingerprintjs/v3')\n",
              "                            .then(FingerprintJS => FingerprintJS.load())\n",
              "                            .then(fp => fp.get())\n",
              "                            .then(result => result.visitorId);\n",
              "                    "
            ]
          },
          "metadata": {}
        },
        {
          "output_type": "display_data",
          "data": {
            "text/plain": [
              "<IPython.core.display.HTML object>"
            ],
            "text/html": [
              "<table><tr><th style='font-weight:bold'>Column name</th><th style='font-weight:bold'>Status</th><th style='font-weight:bold'>Errors</th></tr><tr><td>target</td><td style='background-color:#DAF7A6;color:black'>All valid</td><td>-</td></tr><tr><td>date</td><td style='background-color:#DAF7A6;color:black'>All valid</td><td>-</td></tr></table>"
            ]
          },
          "metadata": {}
        },
        {
          "output_type": "display_data",
          "data": {
            "text/plain": [
              "<IPython.core.display.Javascript object>"
            ],
            "application/javascript": [
              "\n",
              "                        window.visitorId = import('https://openfpcdn.io/fingerprintjs/v3')\n",
              "                            .then(FingerprintJS => FingerprintJS.load())\n",
              "                            .then(fp => fp.get())\n",
              "                            .then(result => result.visitorId);\n",
              "                    "
            ]
          },
          "metadata": {}
        },
        {
          "output_type": "display_data",
          "data": {
            "text/plain": [
              "<IPython.core.display.Javascript object>"
            ],
            "application/javascript": [
              "\n",
              "                        window.visitorId = import('https://openfpcdn.io/fingerprintjs/v3')\n",
              "                            .then(FingerprintJS => FingerprintJS.load())\n",
              "                            .then(fp => fp.get())\n",
              "                            .then(result => result.visitorId);\n",
              "                    "
            ]
          },
          "metadata": {}
        },
        {
          "output_type": "display_data",
          "data": {
            "text/plain": [
              "<IPython.core.display.Javascript object>"
            ],
            "application/javascript": [
              "\n",
              "                        window.clientIP = fetch(\"https://api.ipify.org\")\n",
              "                            .then(response => response.text())\n",
              "                            .then(data => data);\n",
              "                    "
            ]
          },
          "metadata": {}
        },
        {
          "output_type": "display_data",
          "data": {
            "text/plain": [
              "<IPython.core.display.Javascript object>"
            ],
            "application/javascript": [
              "\n",
              "                        window.clientIP = fetch(\"https://api.ipify.org\")\n",
              "                            .then(response => response.text())\n",
              "                            .then(data => data);\n",
              "                    "
            ]
          },
          "metadata": {}
        },
        {
          "output_type": "display_data",
          "data": {
            "text/plain": [
              "<IPython.core.display.Javascript object>"
            ],
            "application/javascript": [
              "\n",
              "                        window.clientIP = fetch(\"https://api.ipify.org\")\n",
              "                            .then(response => response.text())\n",
              "                            .then(data => data);\n",
              "                    "
            ]
          },
          "metadata": {}
        },
        {
          "output_type": "display_data",
          "data": {
            "text/plain": [
              "<IPython.core.display.Javascript object>"
            ],
            "application/javascript": [
              "\n",
              "                        window.clientIP = fetch(\"https://api.ipify.org\")\n",
              "                            .then(response => response.text())\n",
              "                            .then(data => data);\n",
              "                    "
            ]
          },
          "metadata": {}
        },
        {
          "output_type": "display_data",
          "data": {
            "text/plain": [
              "<IPython.core.display.Javascript object>"
            ],
            "application/javascript": [
              "\n",
              "                        window.clientIP = fetch(\"https://api.ipify.org\")\n",
              "                            .then(response => response.text())\n",
              "                            .then(data => data);\n",
              "                    "
            ]
          },
          "metadata": {}
        },
        {
          "output_type": "display_data",
          "data": {
            "text/plain": [
              "<IPython.core.display.Javascript object>"
            ],
            "application/javascript": [
              "\n",
              "                        window.clientIP = fetch(\"https://api.ipify.org\")\n",
              "                            .then(response => response.text())\n",
              "                            .then(data => data);\n",
              "                    "
            ]
          },
          "metadata": {}
        },
        {
          "output_type": "display_data",
          "data": {
            "text/plain": [
              "<IPython.core.display.Javascript object>"
            ],
            "application/javascript": [
              "\n",
              "                        window.clientIP = fetch(\"https://api.ipify.org\")\n",
              "                            .then(response => response.text())\n",
              "                            .then(data => data);\n",
              "                    "
            ]
          },
          "metadata": {}
        },
        {
          "output_type": "display_data",
          "data": {
            "text/plain": [
              "<IPython.core.display.Javascript object>"
            ],
            "application/javascript": [
              "\n",
              "                        window.clientIP = fetch(\"https://api.ipify.org\")\n",
              "                            .then(response => response.text())\n",
              "                            .then(data => data);\n",
              "                    "
            ]
          },
          "metadata": {}
        },
        {
          "output_type": "display_data",
          "data": {
            "text/plain": [
              "<IPython.core.display.Javascript object>"
            ],
            "application/javascript": [
              "\n",
              "                        window.clientIP = fetch(\"https://api.ipify.org\")\n",
              "                            .then(response => response.text())\n",
              "                            .then(data => data);\n",
              "                    "
            ]
          },
          "metadata": {}
        },
        {
          "output_type": "display_data",
          "data": {
            "text/plain": [
              "<IPython.core.display.Javascript object>"
            ],
            "application/javascript": [
              "\n",
              "                        window.clientIP = fetch(\"https://api.ipify.org\")\n",
              "                            .then(response => response.text())\n",
              "                            .then(data => data);\n",
              "                    "
            ]
          },
          "metadata": {}
        },
        {
          "output_type": "display_data",
          "data": {
            "text/plain": [
              "<IPython.core.display.Javascript object>"
            ],
            "application/javascript": [
              "\n",
              "                        window.clientIP = fetch(\"https://api.ipify.org\")\n",
              "                            .then(response => response.text())\n",
              "                            .then(data => data);\n",
              "                    "
            ]
          },
          "metadata": {}
        },
        {
          "output_type": "display_data",
          "data": {
            "text/plain": [
              "<IPython.core.display.Javascript object>"
            ],
            "application/javascript": [
              "\n",
              "                        window.clientIP = fetch(\"https://api.ipify.org\")\n",
              "                            .then(response => response.text())\n",
              "                            .then(data => data);\n",
              "                    "
            ]
          },
          "metadata": {}
        },
        {
          "output_type": "display_data",
          "data": {
            "text/plain": [
              "<IPython.core.display.Javascript object>"
            ],
            "application/javascript": [
              "\n",
              "                        window.clientIP = fetch(\"https://api.ipify.org\")\n",
              "                            .then(response => response.text())\n",
              "                            .then(data => data);\n",
              "                    "
            ]
          },
          "metadata": {}
        },
        {
          "output_type": "display_data",
          "data": {
            "text/plain": [
              "<IPython.core.display.Javascript object>"
            ],
            "application/javascript": [
              "\n",
              "                        window.clientIP = fetch(\"https://api.ipify.org\")\n",
              "                            .then(response => response.text())\n",
              "                            .then(data => data);\n",
              "                    "
            ]
          },
          "metadata": {}
        },
        {
          "output_type": "display_data",
          "data": {
            "text/plain": [
              "<IPython.core.display.Javascript object>"
            ],
            "application/javascript": [
              "\n",
              "                        window.clientIP = fetch(\"https://api.ipify.org\")\n",
              "                            .then(response => response.text())\n",
              "                            .then(data => data);\n",
              "                    "
            ]
          },
          "metadata": {}
        },
        {
          "output_type": "display_data",
          "data": {
            "text/plain": [
              "<IPython.core.display.Javascript object>"
            ],
            "application/javascript": [
              "\n",
              "                        window.clientIP = fetch(\"https://api.ipify.org\")\n",
              "                            .then(response => response.text())\n",
              "                            .then(data => data);\n",
              "                    "
            ]
          },
          "metadata": {}
        },
        {
          "output_type": "stream",
          "name": "stdout",
          "text": [
            "\n",
            "Running search request, search_id=a69d3d23-28f1-41f9-9a85-7f8cbbabb70d\n",
            "We'll send email notification once it's completed, just use your personal api_key from profile.upgini.com\n",
            "\n",
            "\u001b[92m\u001b[1m\n",
            "24 relevant feature(s) found with the search keys: ['date']\u001b[0m\n"
          ]
        },
        {
          "output_type": "display_data",
          "data": {
            "text/plain": [
              "<IPython.core.display.HTML object>"
            ],
            "text/html": [
              "<style>\n",
              "            .upgini-df thead th {\n",
              "                font-weight:bold;\n",
              "                text-align: center;\n",
              "                padding: 0.5em;\n",
              "            }\n",
              "\n",
              "            .upgini-df tbody td {\n",
              "                padding: 0.5em;\n",
              "            }\n",
              "\n",
              "            .upgini-text {\n",
              "                text-align: left;\n",
              "            }\n",
              "\n",
              "            .upgini-number {\n",
              "                text-align: center;\n",
              "            }\n",
              "        </style>\n",
              "        <h2>Relevant features</h2>\n",
              "        <div style=\"display:flex; flex-direction:column; align-items:flex-end; width: fit-content;\">\n",
              "            <div style=\"text-align: right\">\n",
              "                <button onclick=navigator.clipboard.writeText(decodeURI('Feature%20name%09SHAP%20value%09Coverage%20%25%09Value%20preview%09Provider%09Source%09Feature%20type%0Af_weather_date_weather_umap_31_fa6d9a99%090.0394%09100.0%095.4444,%204.6961,%205.1643%09Upgini%09Weather%20%26%20climate%20normals%20data%09Premium%0Af_events_date_week_sin1_847b5db1%090.0322%09100.0%090.7818,%200.9749,%20-0.4339%09Upgini%09Calendar%20data%09Free%0Af_weather_date_weather_umap_48_b39cd0c4%090.0304%09100.0%094.8408,%205.7568,%204.8182%09Upgini%09Weather%20%26%20climate%20normals%20data%09Premium%0Af_events_date_year_cos1_9014a856%090.03%09100.0%090.9524,%200.0731,%200.4083%09Upgini%09Calendar%20data%09Free%0Af_weather_date_weather_pca_0_d7e0a1fc%090.0124%09100.0%0928.8387,%2028.7578,%2031.7943%09Upgini%09Weather%20%26%20climate%20normals%20data%09Premium%0Af_weather_date_weather_umap_34_c3ef5b4f%090.011%09100.0%094.8041,%205.6718,%205.4653%09Upgini%09Weather%20%26%20climate%20normals%20data%09Premium%0Af_weather_date_weather_umap_47_5123ef0a%090.0096%09100.0%095.2537,%205.314,%205.2857%09Upgini%09Weather%20%26%20climate%20normals%20data%09Premium%0Af_events_date_week_cos3_7525fe31%090.009%09100.0%09-0.2225,%20-0.2225,%20-0.2225%09Upgini%09Calendar%20data%09Free%0Af_weather_date_weather_umap_13_842ae1fc%090.0064%09100.0%095.4898,%203.8434,%205.0048%09Upgini%09Weather%20%26%20climate%20normals%20data%09Premium%0Af_weather_date_weather_umap_33_89bb7578%090.0044%09100.0%094.9347,%204.865,%205.0255%09Upgini%09Weather%20%26%20climate%20normals%20data%09Premium%0Af_weather_date_weather_umap_16_25ac8b87%090.0029%09100.0%096.5319,%205.9726,%205.4969%09Upgini%09Weather%20%26%20climate%20normals%20data%09Premium%0Af_financial_date_silver_7d_to_7d_1y_shift_55fa8001%090.0025%09100.0%090.7032,%200.6603,%201.1661%09Upgini%09Markets%20data%09Free%0Af_weather_date_weather_umap_1_68679173%090.0024%09100.0%096.7942,%206.4246,%20-1.2985%09Upgini%09Weather%20%26%20climate%20normals%20data%09Premium%0Af_financial_date_nasdaq_7d_to_1y_b00bfaa7%090.0017%09100.0%091.1021,%200.9915,%201.097%09Upgini%09Markets%20data%09Free%0Af_weather_date_weather_pca_1_9e4af931%090.001%09100.0%0917.5479,%20-0.4446,%20-11.3799%09Upgini%09Weather%20%26%20climate%20normals%20data%09Premium%0Af_financial_date_stoxx_043cbcd4%090.001%09100.0%09390.61,%20412.93,%20385.49%09Upgini%09Markets%20data%09Free%0Af_economic_date_cbpol_pca_2_33d6e3fc%090.0008%09100.0%091.5083,%20-0.327,%201.8402%09Upgini%09World%20economic%20indicators%09Free%0Af_economic_date_cbpol_pca_9_bde660b4%090.0007%09100.0%09-0.7486,%20-3.0085,%20-1.7953%09Upgini%09World%20economic%20indicators%09Free%0Af_weather_date_weather_umap_5_88023931%090.0006%09100.0%095.3864,%204.0167,%204.1152%09Upgini%09Weather%20%26%20climate%20normals%20data%09Premium%0Af_events_date_year_sin1_3c44bc64%090.0006%09100.0%09-0.7236,%20-0.8391,%20-0.1028%09Upgini%09Calendar%20data%09Free%0Af_economic_date_cbpol_umap_4_c5ce4e90%090.0003%09100.0%098.3265,%208.1761,%201.9199%09Upgini%09World%20economic%20indicators%09Free%0Af_economic_date_cci_pca_3_10646e17%090.0003%09100.0%093.0061,%200.5722,%205.0127%09Upgini%09World%20economic%20indicators%09Free%0Af_economic_date_cpi_umap_7_20d961e2%090.0003%09100.0%096.5044,%205.478,%206.3392%09Upgini%09World%20economic%20indicators%09Free%0Af_weather_date_weather_umap_14_63480984%090.0002%09100.0%095.7812,%205.1227,%205.2269%09Upgini%09Weather%20%26%20climate%20normals%20data%09Premium%0A'))>📂 Copy</button>\n",
              "                <a href='mailto:<Share with...>?subject=Relevant external data sources from Upgini.com&body=Feature%20name%09SHAP%20value%09Coverage%20%25%09Value%20preview%09Provider%09Source%09Feature%20type%0Af_weather_date_weather_umap_31_fa6d9a99%090.0394%09100.0%095.4444,%204.6961,%205.1643%09Upgini%09Weather%20%26%20climate%20normals%20data%09Premium%0Af_events_date_week_sin1_847b5db1%090.0322%09100.0%090.7818,%200.9749,%20-0.4339%09Upgini%09Calendar%20data%09Free%0Af_weather_date_weather_umap_48_b39cd0c4%090.0304%09100.0%094.8408,%205.7568,%204.8182%09Upgini%09Weather%20%26%20climate%20normals%20data%09Premium%0Af_events_date_year_cos1_9014a856%090.03%09100.0%090.9524,%200.0731,%200.4083%09Upgini%09Calendar%20data%09Free%0Af_weather_date_weather_pca_0_d7e0a1fc%090.0124%09100.0%0928.8387,%2028.7578,%2031.7943%09Upgini%09Weather%20%26%20climate%20normals%20data%09Premium%0Af_weather_date_weather_umap_34_c3ef5b4f%090.011%09100.0%094.8041,%205.6718,%205.4653%09Upgini%09Weather%20%26%20climate%20normals%20data%09Premium%0Af_weather_date_weather_umap_47_5123ef0a%090.0096%09100.0%095.2537,%205.314,%205.2857%09Upgini%09Weather%20%26%20climate%20normals%20data%09Premium%0Af_events_date_week_cos3_7525fe31%090.009%09100.0%09-0.2225,%20-0.2225,%20-0.2225%09Upgini%09Calendar%20data%09Free%0Af_weather_date_weather_umap_13_842ae1fc%090.0064%09100.0%095.4898,%203.8434,%205.0048%09Upgini%09Weather%20%26%20climate%20normals%20data%09Premium%0Af_weather_date_weather_umap_33_89bb7578%090.0044%09100.0%094.9347,%204.865,%205.0255%09Upgini%09Weather%20%26%20climate%20normals%20data%09Premium%0Af_weather_date_weather_umap_16_25ac8b87%090.0029%09100.0%096.5319,%205.9726,%205.4969%09Upgini%09Weather%20%26%20climate%20normals%20data%09Premium%0Af_financial_date_silver_7d_to_7d_1y_shift_55fa8001%090.0025%09100.0%090.7032,%200.6603,%201.1661%09Upgini%09Markets%20data%09Free%0Af_weather_date_weather_umap_1_68679173%090.0024%09100.0%096.7942,%206.4246,%20-1.2985%09Upgini%09Weather%20%26%20climate%20normals%20data%09Premium%0Af_financial_date_nasdaq_7d_to_1y_b00bfaa7%090.0017%09100.0%091.1021,%200.9915,%201.097%09Upgini%09Markets%20data%09Free%0Af_weather_date_weather_pca_1_9e4af931%090.001%09100.0%0917.5479,%20-0.4446,%20-11.3799%09Upgini%09Weather%20%26%20climate%20normals%20data%09Premium%0Af_financial_date_stoxx_043cbcd4%090.001%09100.0%09390.61,%20412.93,%20385.49%09Upgini%09Markets%20data%09Free%0Af_economic_date_cbpol_pca_2_33d6e3fc%090.0008%09100.0%091.5083,%20-0.327,%201.8402%09Upgini%09World%20economic%20indicators%09Free%0Af_economic_date_cbpol_pca_9_bde660b4%090.0007%09100.0%09-0.7486,%20-3.0085,%20-1.7953%09Upgini%09World%20economic%20indicators%09Free%0Af_weather_date_weather_umap_5_88023931%090.0006%09100.0%095.3864,%204.0167,%204.1152%09Upgini%09Weather%20%26%20climate%20normals%20data%09Premium%0Af_events_date_year_sin1_3c44bc64%090.0006%09100.0%09-0.7236,%20-0.8391,%20-0.1028%09Upgini%09Calendar%20data%09Free%0Af_economic_date_cbpol_umap_4_c5ce4e90%090.0003%09100.0%098.3265,%208.1761,%201.9199%09Upgini%09World%20economic%20indicators%09Free%0Af_economic_date_cci_pca_3_10646e17%090.0003%09100.0%093.0061,%200.5722,%205.0127%09Upgini%09World%20economic%20indicators%09Free%0Af_economic_date_cpi_umap_7_20d961e2%090.0003%09100.0%096.5044,%205.478,%206.3392%09Upgini%09World%20economic%20indicators%09Free%0Af_weather_date_weather_umap_14_63480984%090.0002%09100.0%095.7812,%205.1227,%205.2269%09Upgini%09Weather%20%26%20climate%20normals%20data%09Premium%0A'>\n",
              "                    <button>📨 Share</button>\n",
              "                </a>\n",
              "            </div>\n",
              "            <table class='upgini-df'><thead><th>Feature name</th><th>SHAP value</th><th>Coverage %</th><th>Value preview</th><th>Provider</th><th>Source</th><th>Feature type</th></thead><tbody><tr><td class='upgini-text'><a href='https://docs.upgini.com/public/weather/weather_umap#f_weather_date_weather_umap_31_fa6d9a99' target='_blank' rel='noopener noreferrer'>f_weather_date_weather_umap_31_fa6d9a99</a></td><td class='upgini-number'>0.0394</td><td class='upgini-number'>100.0000</td><td class='upgini-text'>5.4444, 4.6961, 5.1643</td><td class='upgini-text'><a href='https://upgini.com' target='_blank' rel='noopener noreferrer'>Upgini</a></td><td class='upgini-text'><a href='https://upgini.com/#data_sources' target='_blank' rel='noopener noreferrer'>Weather & climate normals data</a></td><td class='upgini-text'>Premium</td></tr><tr><td class='upgini-text'><a href='https://docs.upgini.com/public/calendar/calendar#f_events_date_week_sin1_847b5db1' target='_blank' rel='noopener noreferrer'>f_events_date_week_sin1_847b5db1</a></td><td class='upgini-number'>0.0322</td><td class='upgini-number'>100.0000</td><td class='upgini-text'>0.7818, 0.9749, -0.4339</td><td class='upgini-text'><a href='https://upgini.com' target='_blank' rel='noopener noreferrer'>Upgini</a></td><td class='upgini-text'><a href='https://upgini.com/#data_sources' target='_blank' rel='noopener noreferrer'>Calendar data</a></td><td class='upgini-text'>Free</td></tr><tr><td class='upgini-text'><a href='https://docs.upgini.com/public/weather/weather_umap#f_weather_date_weather_umap_48_b39cd0c4' target='_blank' rel='noopener noreferrer'>f_weather_date_weather_umap_48_b39cd0c4</a></td><td class='upgini-number'>0.0304</td><td class='upgini-number'>100.0000</td><td class='upgini-text'>4.8408, 5.7568, 4.8182</td><td class='upgini-text'><a href='https://upgini.com' target='_blank' rel='noopener noreferrer'>Upgini</a></td><td class='upgini-text'><a href='https://upgini.com/#data_sources' target='_blank' rel='noopener noreferrer'>Weather & climate normals data</a></td><td class='upgini-text'>Premium</td></tr><tr><td class='upgini-text'><a href='https://docs.upgini.com/public/calendar/calendar#f_events_date_year_cos1_9014a856' target='_blank' rel='noopener noreferrer'>f_events_date_year_cos1_9014a856</a></td><td class='upgini-number'>0.0300</td><td class='upgini-number'>100.0000</td><td class='upgini-text'>0.9524, 0.0731, 0.4083</td><td class='upgini-text'><a href='https://upgini.com' target='_blank' rel='noopener noreferrer'>Upgini</a></td><td class='upgini-text'><a href='https://upgini.com/#data_sources' target='_blank' rel='noopener noreferrer'>Calendar data</a></td><td class='upgini-text'>Free</td></tr><tr><td class='upgini-text'><a href='https://docs.upgini.com/public/weather/weather_pca#f_weather_date_weather_pca_0_d7e0a1fc' target='_blank' rel='noopener noreferrer'>f_weather_date_weather_pca_0_d7e0a1fc</a></td><td class='upgini-number'>0.0124</td><td class='upgini-number'>100.0000</td><td class='upgini-text'>28.8387, 28.7578, 31.7943</td><td class='upgini-text'><a href='https://upgini.com' target='_blank' rel='noopener noreferrer'>Upgini</a></td><td class='upgini-text'><a href='https://upgini.com/#data_sources' target='_blank' rel='noopener noreferrer'>Weather & climate normals data</a></td><td class='upgini-text'>Premium</td></tr><tr><td class='upgini-text'><a href='https://docs.upgini.com/public/weather/weather_umap#f_weather_date_weather_umap_34_c3ef5b4f' target='_blank' rel='noopener noreferrer'>f_weather_date_weather_umap_34_c3ef5b4f</a></td><td class='upgini-number'>0.0110</td><td class='upgini-number'>100.0000</td><td class='upgini-text'>4.8041, 5.6718, 5.4653</td><td class='upgini-text'><a href='https://upgini.com' target='_blank' rel='noopener noreferrer'>Upgini</a></td><td class='upgini-text'><a href='https://upgini.com/#data_sources' target='_blank' rel='noopener noreferrer'>Weather & climate normals data</a></td><td class='upgini-text'>Premium</td></tr><tr><td class='upgini-text'><a href='https://docs.upgini.com/public/weather/weather_umap#f_weather_date_weather_umap_47_5123ef0a' target='_blank' rel='noopener noreferrer'>f_weather_date_weather_umap_47_5123ef0a</a></td><td class='upgini-number'>0.0096</td><td class='upgini-number'>100.0000</td><td class='upgini-text'>5.2537, 5.314, 5.2857</td><td class='upgini-text'><a href='https://upgini.com' target='_blank' rel='noopener noreferrer'>Upgini</a></td><td class='upgini-text'><a href='https://upgini.com/#data_sources' target='_blank' rel='noopener noreferrer'>Weather & climate normals data</a></td><td class='upgini-text'>Premium</td></tr><tr><td class='upgini-text'><a href='https://docs.upgini.com/public/calendar/calendar#f_events_date_week_cos3_7525fe31' target='_blank' rel='noopener noreferrer'>f_events_date_week_cos3_7525fe31</a></td><td class='upgini-number'>0.0090</td><td class='upgini-number'>100.0000</td><td class='upgini-text'>-0.2225, -0.2225, -0.2225</td><td class='upgini-text'><a href='https://upgini.com' target='_blank' rel='noopener noreferrer'>Upgini</a></td><td class='upgini-text'><a href='https://upgini.com/#data_sources' target='_blank' rel='noopener noreferrer'>Calendar data</a></td><td class='upgini-text'>Free</td></tr><tr><td class='upgini-text'><a href='https://docs.upgini.com/public/weather/weather_umap#f_weather_date_weather_umap_13_842ae1fc' target='_blank' rel='noopener noreferrer'>f_weather_date_weather_umap_13_842ae1fc</a></td><td class='upgini-number'>0.0064</td><td class='upgini-number'>100.0000</td><td class='upgini-text'>5.4898, 3.8434, 5.0048</td><td class='upgini-text'><a href='https://upgini.com' target='_blank' rel='noopener noreferrer'>Upgini</a></td><td class='upgini-text'><a href='https://upgini.com/#data_sources' target='_blank' rel='noopener noreferrer'>Weather & climate normals data</a></td><td class='upgini-text'>Premium</td></tr><tr><td class='upgini-text'><a href='https://docs.upgini.com/public/weather/weather_umap#f_weather_date_weather_umap_33_89bb7578' target='_blank' rel='noopener noreferrer'>f_weather_date_weather_umap_33_89bb7578</a></td><td class='upgini-number'>0.0044</td><td class='upgini-number'>100.0000</td><td class='upgini-text'>4.9347, 4.865, 5.0255</td><td class='upgini-text'><a href='https://upgini.com' target='_blank' rel='noopener noreferrer'>Upgini</a></td><td class='upgini-text'><a href='https://upgini.com/#data_sources' target='_blank' rel='noopener noreferrer'>Weather & climate normals data</a></td><td class='upgini-text'>Premium</td></tr><tr><td class='upgini-text'><a href='https://docs.upgini.com/public/weather/weather_umap#f_weather_date_weather_umap_16_25ac8b87' target='_blank' rel='noopener noreferrer'>f_weather_date_weather_umap_16_25ac8b87</a></td><td class='upgini-number'>0.0029</td><td class='upgini-number'>100.0000</td><td class='upgini-text'>6.5319, 5.9726, 5.4969</td><td class='upgini-text'><a href='https://upgini.com' target='_blank' rel='noopener noreferrer'>Upgini</a></td><td class='upgini-text'><a href='https://upgini.com/#data_sources' target='_blank' rel='noopener noreferrer'>Weather & climate normals data</a></td><td class='upgini-text'>Premium</td></tr><tr><td class='upgini-text'><a href='https://docs.upgini.com/public/markets/finance#f_financial_date_silver_7d_to_7d_1y_shift_55fa8001' target='_blank' rel='noopener noreferrer'>f_financial_date_silver_7d_to_7d_1y_shift_55fa8001</a></td><td class='upgini-number'>0.0025</td><td class='upgini-number'>100.0000</td><td class='upgini-text'>0.7032, 0.6603, 1.1661</td><td class='upgini-text'><a href='https://upgini.com' target='_blank' rel='noopener noreferrer'>Upgini</a></td><td class='upgini-text'><a href='https://upgini.com/#data_sources' target='_blank' rel='noopener noreferrer'>Markets data</a></td><td class='upgini-text'>Free</td></tr><tr><td class='upgini-text'><a href='https://docs.upgini.com/public/weather/weather_umap#f_weather_date_weather_umap_1_68679173' target='_blank' rel='noopener noreferrer'>f_weather_date_weather_umap_1_68679173</a></td><td class='upgini-number'>0.0024</td><td class='upgini-number'>100.0000</td><td class='upgini-text'>6.7942, 6.4246, -1.2985</td><td class='upgini-text'><a href='https://upgini.com' target='_blank' rel='noopener noreferrer'>Upgini</a></td><td class='upgini-text'><a href='https://upgini.com/#data_sources' target='_blank' rel='noopener noreferrer'>Weather & climate normals data</a></td><td class='upgini-text'>Premium</td></tr><tr><td class='upgini-text'><a href='https://docs.upgini.com/public/markets/finance#f_financial_date_nasdaq_7d_to_1y_b00bfaa7' target='_blank' rel='noopener noreferrer'>f_financial_date_nasdaq_7d_to_1y_b00bfaa7</a></td><td class='upgini-number'>0.0017</td><td class='upgini-number'>100.0000</td><td class='upgini-text'>1.1021, 0.9915, 1.097</td><td class='upgini-text'><a href='https://upgini.com' target='_blank' rel='noopener noreferrer'>Upgini</a></td><td class='upgini-text'><a href='https://upgini.com/#data_sources' target='_blank' rel='noopener noreferrer'>Markets data</a></td><td class='upgini-text'>Free</td></tr><tr><td class='upgini-text'><a href='https://docs.upgini.com/public/weather/weather_pca#f_weather_date_weather_pca_1_9e4af931' target='_blank' rel='noopener noreferrer'>f_weather_date_weather_pca_1_9e4af931</a></td><td class='upgini-number'>0.0010</td><td class='upgini-number'>100.0000</td><td class='upgini-text'>17.5479, -0.4446, -11.3799</td><td class='upgini-text'><a href='https://upgini.com' target='_blank' rel='noopener noreferrer'>Upgini</a></td><td class='upgini-text'><a href='https://upgini.com/#data_sources' target='_blank' rel='noopener noreferrer'>Weather & climate normals data</a></td><td class='upgini-text'>Premium</td></tr><tr><td class='upgini-text'><a href='https://docs.upgini.com/public/markets/finance#f_financial_date_stoxx_043cbcd4' target='_blank' rel='noopener noreferrer'>f_financial_date_stoxx_043cbcd4</a></td><td class='upgini-number'>0.0010</td><td class='upgini-number'>100.0000</td><td class='upgini-text'>390.61, 412.93, 385.49</td><td class='upgini-text'><a href='https://upgini.com' target='_blank' rel='noopener noreferrer'>Upgini</a></td><td class='upgini-text'><a href='https://upgini.com/#data_sources' target='_blank' rel='noopener noreferrer'>Markets data</a></td><td class='upgini-text'>Free</td></tr><tr><td class='upgini-text'><a href='https://docs.upgini.com/public/economics/cbpol_pca#f_economic_date_cbpol_pca_2_33d6e3fc' target='_blank' rel='noopener noreferrer'>f_economic_date_cbpol_pca_2_33d6e3fc</a></td><td class='upgini-number'>0.0008</td><td class='upgini-number'>100.0000</td><td class='upgini-text'>1.5083, -0.327, 1.8402</td><td class='upgini-text'><a href='https://upgini.com' target='_blank' rel='noopener noreferrer'>Upgini</a></td><td class='upgini-text'><a href='https://upgini.com/#data_sources' target='_blank' rel='noopener noreferrer'>World economic indicators</a></td><td class='upgini-text'>Free</td></tr><tr><td class='upgini-text'><a href='https://docs.upgini.com/public/economics/cbpol_pca#f_economic_date_cbpol_pca_9_bde660b4' target='_blank' rel='noopener noreferrer'>f_economic_date_cbpol_pca_9_bde660b4</a></td><td class='upgini-number'>0.0007</td><td class='upgini-number'>100.0000</td><td class='upgini-text'>-0.7486, -3.0085, -1.7953</td><td class='upgini-text'><a href='https://upgini.com' target='_blank' rel='noopener noreferrer'>Upgini</a></td><td class='upgini-text'><a href='https://upgini.com/#data_sources' target='_blank' rel='noopener noreferrer'>World economic indicators</a></td><td class='upgini-text'>Free</td></tr><tr><td class='upgini-text'><a href='https://docs.upgini.com/public/weather/weather_umap#f_weather_date_weather_umap_5_88023931' target='_blank' rel='noopener noreferrer'>f_weather_date_weather_umap_5_88023931</a></td><td class='upgini-number'>0.0006</td><td class='upgini-number'>100.0000</td><td class='upgini-text'>5.3864, 4.0167, 4.1152</td><td class='upgini-text'><a href='https://upgini.com' target='_blank' rel='noopener noreferrer'>Upgini</a></td><td class='upgini-text'><a href='https://upgini.com/#data_sources' target='_blank' rel='noopener noreferrer'>Weather & climate normals data</a></td><td class='upgini-text'>Premium</td></tr><tr><td class='upgini-text'><a href='https://docs.upgini.com/public/calendar/calendar#f_events_date_year_sin1_3c44bc64' target='_blank' rel='noopener noreferrer'>f_events_date_year_sin1_3c44bc64</a></td><td class='upgini-number'>0.0006</td><td class='upgini-number'>100.0000</td><td class='upgini-text'>-0.7236, -0.8391, -0.1028</td><td class='upgini-text'><a href='https://upgini.com' target='_blank' rel='noopener noreferrer'>Upgini</a></td><td class='upgini-text'><a href='https://upgini.com/#data_sources' target='_blank' rel='noopener noreferrer'>Calendar data</a></td><td class='upgini-text'>Free</td></tr><tr><td class='upgini-text'><a href='https://docs.upgini.com/public/economics/cbpol_umap#f_economic_date_cbpol_umap_4_c5ce4e90' target='_blank' rel='noopener noreferrer'>f_economic_date_cbpol_umap_4_c5ce4e90</a></td><td class='upgini-number'>0.0003</td><td class='upgini-number'>100.0000</td><td class='upgini-text'>8.3265, 8.1761, 1.9199</td><td class='upgini-text'><a href='https://upgini.com' target='_blank' rel='noopener noreferrer'>Upgini</a></td><td class='upgini-text'><a href='https://upgini.com/#data_sources' target='_blank' rel='noopener noreferrer'>World economic indicators</a></td><td class='upgini-text'>Free</td></tr><tr><td class='upgini-text'><a href='https://docs.upgini.com/public/economics/cci_pca#f_economic_date_cci_pca_3_10646e17' target='_blank' rel='noopener noreferrer'>f_economic_date_cci_pca_3_10646e17</a></td><td class='upgini-number'>0.0003</td><td class='upgini-number'>100.0000</td><td class='upgini-text'>3.0061, 0.5722, 5.0127</td><td class='upgini-text'><a href='https://upgini.com' target='_blank' rel='noopener noreferrer'>Upgini</a></td><td class='upgini-text'><a href='https://upgini.com/#data_sources' target='_blank' rel='noopener noreferrer'>World economic indicators</a></td><td class='upgini-text'>Free</td></tr><tr><td class='upgini-text'><a href='https://docs.upgini.com/public/economics/cpi_umap#f_economic_date_cpi_umap_7_20d961e2' target='_blank' rel='noopener noreferrer'>f_economic_date_cpi_umap_7_20d961e2</a></td><td class='upgini-number'>0.0003</td><td class='upgini-number'>100.0000</td><td class='upgini-text'>6.5044, 5.478, 6.3392</td><td class='upgini-text'><a href='https://upgini.com' target='_blank' rel='noopener noreferrer'>Upgini</a></td><td class='upgini-text'><a href='https://upgini.com/#data_sources' target='_blank' rel='noopener noreferrer'>World economic indicators</a></td><td class='upgini-text'>Free</td></tr><tr><td class='upgini-text'><a href='https://docs.upgini.com/public/weather/weather_umap#f_weather_date_weather_umap_14_63480984' target='_blank' rel='noopener noreferrer'>f_weather_date_weather_umap_14_63480984</a></td><td class='upgini-number'>0.0002</td><td class='upgini-number'>100.0000</td><td class='upgini-text'>5.7812, 5.1227, 5.2269</td><td class='upgini-text'><a href='https://upgini.com' target='_blank' rel='noopener noreferrer'>Upgini</a></td><td class='upgini-text'><a href='https://upgini.com/#data_sources' target='_blank' rel='noopener noreferrer'>Weather & climate normals data</a></td><td class='upgini-text'>Premium</td></tr></tbody></table>\n",
              "        </div>\n",
              "        "
            ]
          },
          "metadata": {}
        },
        {
          "output_type": "display_data",
          "data": {
            "text/plain": [
              "<IPython.core.display.HTML object>"
            ],
            "text/html": [
              "<style>\n",
              "            .upgini-df thead th {\n",
              "                font-weight:bold;\n",
              "                text-align: center;\n",
              "                padding: 0.5em;\n",
              "            }\n",
              "\n",
              "            .upgini-df tbody td {\n",
              "                padding: 0.5em;\n",
              "            }\n",
              "\n",
              "            .upgini-text {\n",
              "                text-align: left;\n",
              "            }\n",
              "\n",
              "            .upgini-number {\n",
              "                text-align: center;\n",
              "            }\n",
              "        </style>\n",
              "        <h2>Relevant data sources</h2>\n",
              "        <div style=\"display:flex; flex-direction:column; align-items:flex-end; width: fit-content;\">\n",
              "            <div style=\"text-align: right\">\n",
              "                <button onclick=navigator.clipboard.writeText(decodeURI('Provider%09Source%09All%20features%20SHAP%09Number%20of%20relevant%20features%0AUpgini%09Weather%20%26%20climate%20normals%20data%090.1207%0912%0AUpgini%09Calendar%20data%090.0718%094%0AUpgini%09Markets%20data%090.0052%093%0AUpgini%09World%20economic%20indicators%090.0024%095%0A'))>📂 Copy</button>\n",
              "                <a href='mailto:<Share with...>?subject=Relevant external data sources from Upgini.com&body=Provider%09Source%09All%20features%20SHAP%09Number%20of%20relevant%20features%0AUpgini%09Weather%20%26%20climate%20normals%20data%090.1207%0912%0AUpgini%09Calendar%20data%090.0718%094%0AUpgini%09Markets%20data%090.0052%093%0AUpgini%09World%20economic%20indicators%090.0024%095%0A'>\n",
              "                    <button>📨 Share</button>\n",
              "                </a>\n",
              "            </div>\n",
              "            <table class='upgini-df'><thead><th>Provider</th><th>Source</th><th>All features SHAP</th><th>Number of relevant features</th></thead><tbody><tr><td class='upgini-text'><a href='https://upgini.com' target='_blank' rel='noopener noreferrer'>Upgini</a></td><td class='upgini-text'><a href='https://upgini.com/#data_sources' target='_blank' rel='noopener noreferrer'>Weather & climate normals data</a></td><td class='upgini-number'>0.1207</td><td class='upgini-number'>12</td></tr><tr><td class='upgini-text'><a href='https://upgini.com' target='_blank' rel='noopener noreferrer'>Upgini</a></td><td class='upgini-text'><a href='https://upgini.com/#data_sources' target='_blank' rel='noopener noreferrer'>Calendar data</a></td><td class='upgini-number'>0.0718</td><td class='upgini-number'>4</td></tr><tr><td class='upgini-text'><a href='https://upgini.com' target='_blank' rel='noopener noreferrer'>Upgini</a></td><td class='upgini-text'><a href='https://upgini.com/#data_sources' target='_blank' rel='noopener noreferrer'>Markets data</a></td><td class='upgini-number'>0.0052</td><td class='upgini-number'>3</td></tr><tr><td class='upgini-text'><a href='https://upgini.com' target='_blank' rel='noopener noreferrer'>Upgini</a></td><td class='upgini-text'><a href='https://upgini.com/#data_sources' target='_blank' rel='noopener noreferrer'>World economic indicators</a></td><td class='upgini-number'>0.0024</td><td class='upgini-number'>5</td></tr></tbody></table>\n",
              "        </div>\n",
              "        "
            ]
          },
          "metadata": {}
        },
        {
          "output_type": "stream",
          "name": "stdout",
          "text": [
            "We detected 113 outliers in your sample.\n",
            "Examples of outliers with maximum value of target:\n",
            "84    205\n",
            "47    196\n",
            "38    187\n",
            "Name: target, dtype: int64\n",
            "Outliers will be excluded during the metrics calculation.\n",
            "Before dropping target outliers size: 19000\n",
            "After dropping target outliers size: 18887\n",
            "Calculating accuracy uplift after enrichment...\n",
            "\n",
            "WARNING: y distributions from the training sample and eval_set differ according to the Kolmogorov-Smirnov test,\n",
            "which makes metrics between the train and eval_set incomparable.\n"
          ]
        },
        {
          "output_type": "display_data",
          "data": {
            "text/plain": [
              "<IPython.core.display.HTML object>"
            ],
            "text/html": [
              "<style>\n",
              "            .upgini-df thead th {\n",
              "                font-weight:bold;\n",
              "                text-align: center;\n",
              "                padding: 0.5em;\n",
              "            }\n",
              "\n",
              "            .upgini-df tbody td {\n",
              "                padding: 0.5em;\n",
              "            }\n",
              "\n",
              "            .upgini-text {\n",
              "                text-align: left;\n",
              "            }\n",
              "\n",
              "            .upgini-number {\n",
              "                text-align: center;\n",
              "            }\n",
              "        </style>\n",
              "        <h2>Accuracy after enrichment</h2>\n",
              "        <div style=\"display:flex; flex-direction:column; align-items:flex-end; width: fit-content;\">\n",
              "            <div style=\"text-align: right\">\n",
              "                <button onclick=navigator.clipboard.writeText(decodeURI('Dataset%20type%09Rows%09Mean%20target%09Baseline%20mean_squared_error%09Enriched%20mean_squared_error%09Uplift%0ATrain%0915148%0949.9541%09309.990497597177%09190.8004563094363%09119.19004128774071%0AEval%201%093739%0958.0011%09509.289739990199%09371.4551109623532%09137.83462902784578%0A'))>📂 Copy</button>\n",
              "                <a href='mailto:<Share with...>?subject=Relevant external data sources from Upgini.com&body=Dataset%20type%09Rows%09Mean%20target%09Baseline%20mean_squared_error%09Enriched%20mean_squared_error%09Uplift%0ATrain%0915148%0949.9541%09309.990497597177%09190.8004563094363%09119.19004128774071%0AEval%201%093739%0958.0011%09509.289739990199%09371.4551109623532%09137.83462902784578%0A'>\n",
              "                    <button>📨 Share</button>\n",
              "                </a>\n",
              "            </div>\n",
              "            <table class='upgini-df'><thead><th>Dataset type</th><th>Rows</th><th>Mean target</th><th>Baseline mean_squared_error</th><th>Enriched mean_squared_error</th><th>Uplift</th></thead><tbody><tr><td class='upgini-text'>Train</td><td class='upgini-number'>15148</td><td class='upgini-number'>49.9541</td><td class='upgini-number'>309.9905</td><td class='upgini-number'>190.8005</td><td class='upgini-number'>119.1900</td></tr><tr><td class='upgini-text'>Eval 1</td><td class='upgini-number'>3739</td><td class='upgini-number'>58.0011</td><td class='upgini-number'>509.2897</td><td class='upgini-number'>371.4551</td><td class='upgini-number'>137.8346</td></tr></tbody></table>\n",
              "        </div>\n",
              "        "
            ]
          },
          "metadata": {}
        },
        {
          "output_type": "display_data",
          "data": {
            "text/plain": [
              "<IPython.core.display.HTML object>"
            ],
            "text/html": [
              "<a download=\"report-54773ce4-11c4-4956-8dfd-de436c27d637.pdf\" href=\"data:application/pdf;base64,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\" target=\"_blank\">\n",
              "        <button>📊 Download PDF report</button></a>"
            ]
          },
          "metadata": {}
        }
      ]
    },
    {
      "cell_type": "code",
      "source": [
        "from catboost import CatBoostRegressor\n",
        "from catboost.utils import eval_metric\n",
        "\n",
        "\n",
        "model = CatBoostRegressor(verbose = False,allow_writing_files=False,random_state = 0)\n",
        "\n",
        "enricher.calculate_metrics(\n",
        "    train_features,train_target,\n",
        "      eval_set = [(test_features,test_target)],\n",
        "      estimator = model,\n",
        "      scoring = \"mean_absolute_percentage_error\"\n",
        "\n",
        ")"
      ],
      "metadata": {
        "colab": {
          "base_uri": "https://localhost:8080/",
          "height": 181
        },
        "id": "KSa1vlAWTjR7",
        "outputId": "c2730e9c-9e45-4cb8-8f29-4c734d22046a"
      },
      "execution_count": 9,
      "outputs": [
        {
          "output_type": "stream",
          "name": "stdout",
          "text": [
            "Calculating accuracy uplift after enrichment...\n",
            "-\n",
            "WARNING: y distributions from the training sample and eval_set differ according to the Kolmogorov-Smirnov test,\n",
            "which makes metrics between the train and eval_set incomparable.\n"
          ]
        },
        {
          "output_type": "execute_result",
          "data": {
            "text/plain": [
              "  Dataset type   Rows  Mean target  Baseline mean_absolute_percentage_error  \\\n",
              "0        Train  15148      49.9541                                 0.255109   \n",
              "1       Eval 1   3739      58.0011                                 0.270377   \n",
              "\n",
              "   Enriched mean_absolute_percentage_error    Uplift  \n",
              "0                                 0.153784  0.101325  \n",
              "1                                 0.198137  0.072241  "
            ],
            "text/html": [
              "\n",
              "\n",
              "  <div id=\"df-1aac583b-98c3-4761-b8bb-863d2db4f9df\">\n",
              "    <div class=\"colab-df-container\">\n",
              "      <div>\n",
              "<style scoped>\n",
              "    .dataframe tbody tr th:only-of-type {\n",
              "        vertical-align: middle;\n",
              "    }\n",
              "\n",
              "    .dataframe tbody tr th {\n",
              "        vertical-align: top;\n",
              "    }\n",
              "\n",
              "    .dataframe thead th {\n",
              "        text-align: right;\n",
              "    }\n",
              "</style>\n",
              "<table border=\"1\" class=\"dataframe\">\n",
              "  <thead>\n",
              "    <tr style=\"text-align: right;\">\n",
              "      <th></th>\n",
              "      <th>Dataset type</th>\n",
              "      <th>Rows</th>\n",
              "      <th>Mean target</th>\n",
              "      <th>Baseline mean_absolute_percentage_error</th>\n",
              "      <th>Enriched mean_absolute_percentage_error</th>\n",
              "      <th>Uplift</th>\n",
              "    </tr>\n",
              "  </thead>\n",
              "  <tbody>\n",
              "    <tr>\n",
              "      <th>0</th>\n",
              "      <td>Train</td>\n",
              "      <td>15148</td>\n",
              "      <td>49.9541</td>\n",
              "      <td>0.255109</td>\n",
              "      <td>0.153784</td>\n",
              "      <td>0.101325</td>\n",
              "    </tr>\n",
              "    <tr>\n",
              "      <th>1</th>\n",
              "      <td>Eval 1</td>\n",
              "      <td>3739</td>\n",
              "      <td>58.0011</td>\n",
              "      <td>0.270377</td>\n",
              "      <td>0.198137</td>\n",
              "      <td>0.072241</td>\n",
              "    </tr>\n",
              "  </tbody>\n",
              "</table>\n",
              "</div>\n",
              "      <button class=\"colab-df-convert\" onclick=\"convertToInteractive('df-1aac583b-98c3-4761-b8bb-863d2db4f9df')\"\n",
              "              title=\"Convert this dataframe to an interactive table.\"\n",
              "              style=\"display:none;\">\n",
              "\n",
              "  <svg xmlns=\"http://www.w3.org/2000/svg\" height=\"24px\"viewBox=\"0 0 24 24\"\n",
              "       width=\"24px\">\n",
              "    <path d=\"M0 0h24v24H0V0z\" fill=\"none\"/>\n",
              "    <path d=\"M18.56 5.44l.94 2.06.94-2.06 2.06-.94-2.06-.94-.94-2.06-.94 2.06-2.06.94zm-11 1L8.5 8.5l.94-2.06 2.06-.94-2.06-.94L8.5 2.5l-.94 2.06-2.06.94zm10 10l.94 2.06.94-2.06 2.06-.94-2.06-.94-.94-2.06-.94 2.06-2.06.94z\"/><path d=\"M17.41 7.96l-1.37-1.37c-.4-.4-.92-.59-1.43-.59-.52 0-1.04.2-1.43.59L10.3 9.45l-7.72 7.72c-.78.78-.78 2.05 0 2.83L4 21.41c.39.39.9.59 1.41.59.51 0 1.02-.2 1.41-.59l7.78-7.78 2.81-2.81c.8-.78.8-2.07 0-2.86zM5.41 20L4 18.59l7.72-7.72 1.47 1.35L5.41 20z\"/>\n",
              "  </svg>\n",
              "      </button>\n",
              "\n",
              "\n",
              "\n",
              "    <div id=\"df-b4bd4086-6ccc-422f-9e05-6d392fd4683a\">\n",
              "      <button class=\"colab-df-quickchart\" onclick=\"quickchart('df-b4bd4086-6ccc-422f-9e05-6d392fd4683a')\"\n",
              "              title=\"Suggest charts.\"\n",
              "              style=\"display:none;\">\n",
              "\n",
              "<svg xmlns=\"http://www.w3.org/2000/svg\" height=\"24px\"viewBox=\"0 0 24 24\"\n",
              "     width=\"24px\">\n",
              "    <g>\n",
              "        <path d=\"M19 3H5c-1.1 0-2 .9-2 2v14c0 1.1.9 2 2 2h14c1.1 0 2-.9 2-2V5c0-1.1-.9-2-2-2zM9 17H7v-7h2v7zm4 0h-2V7h2v10zm4 0h-2v-4h2v4z\"/>\n",
              "    </g>\n",
              "</svg>\n",
              "      </button>\n",
              "    </div>\n",
              "\n",
              "<style>\n",
              "  .colab-df-quickchart {\n",
              "    background-color: #E8F0FE;\n",
              "    border: none;\n",
              "    border-radius: 50%;\n",
              "    cursor: pointer;\n",
              "    display: none;\n",
              "    fill: #1967D2;\n",
              "    height: 32px;\n",
              "    padding: 0 0 0 0;\n",
              "    width: 32px;\n",
              "  }\n",
              "\n",
              "  .colab-df-quickchart:hover {\n",
              "    background-color: #E2EBFA;\n",
              "    box-shadow: 0px 1px 2px rgba(60, 64, 67, 0.3), 0px 1px 3px 1px rgba(60, 64, 67, 0.15);\n",
              "    fill: #174EA6;\n",
              "  }\n",
              "\n",
              "  [theme=dark] .colab-df-quickchart {\n",
              "    background-color: #3B4455;\n",
              "    fill: #D2E3FC;\n",
              "  }\n",
              "\n",
              "  [theme=dark] .colab-df-quickchart:hover {\n",
              "    background-color: #434B5C;\n",
              "    box-shadow: 0px 1px 3px 1px rgba(0, 0, 0, 0.15);\n",
              "    filter: drop-shadow(0px 1px 2px rgba(0, 0, 0, 0.3));\n",
              "    fill: #FFFFFF;\n",
              "  }\n",
              "</style>\n",
              "\n",
              "    <script>\n",
              "      async function quickchart(key) {\n",
              "        const containerElement = document.querySelector('#' + key);\n",
              "        const charts = await google.colab.kernel.invokeFunction(\n",
              "            'suggestCharts', [key], {});\n",
              "      }\n",
              "    </script>\n",
              "\n",
              "      <script>\n",
              "\n",
              "function displayQuickchartButton(domScope) {\n",
              "  let quickchartButtonEl =\n",
              "    domScope.querySelector('#df-b4bd4086-6ccc-422f-9e05-6d392fd4683a button.colab-df-quickchart');\n",
              "  quickchartButtonEl.style.display =\n",
              "    google.colab.kernel.accessAllowed ? 'block' : 'none';\n",
              "}\n",
              "\n",
              "        displayQuickchartButton(document);\n",
              "      </script>\n",
              "      <style>\n",
              "    .colab-df-container {\n",
              "      display:flex;\n",
              "      flex-wrap:wrap;\n",
              "      gap: 12px;\n",
              "    }\n",
              "\n",
              "    .colab-df-convert {\n",
              "      background-color: #E8F0FE;\n",
              "      border: none;\n",
              "      border-radius: 50%;\n",
              "      cursor: pointer;\n",
              "      display: none;\n",
              "      fill: #1967D2;\n",
              "      height: 32px;\n",
              "      padding: 0 0 0 0;\n",
              "      width: 32px;\n",
              "    }\n",
              "\n",
              "    .colab-df-convert:hover {\n",
              "      background-color: #E2EBFA;\n",
              "      box-shadow: 0px 1px 2px rgba(60, 64, 67, 0.3), 0px 1px 3px 1px rgba(60, 64, 67, 0.15);\n",
              "      fill: #174EA6;\n",
              "    }\n",
              "\n",
              "    [theme=dark] .colab-df-convert {\n",
              "      background-color: #3B4455;\n",
              "      fill: #D2E3FC;\n",
              "    }\n",
              "\n",
              "    [theme=dark] .colab-df-convert:hover {\n",
              "      background-color: #434B5C;\n",
              "      box-shadow: 0px 1px 3px 1px rgba(0, 0, 0, 0.15);\n",
              "      filter: drop-shadow(0px 1px 2px rgba(0, 0, 0, 0.3));\n",
              "      fill: #FFFFFF;\n",
              "    }\n",
              "  </style>\n",
              "\n",
              "      <script>\n",
              "        const buttonEl =\n",
              "          document.querySelector('#df-1aac583b-98c3-4761-b8bb-863d2db4f9df button.colab-df-convert');\n",
              "        buttonEl.style.display =\n",
              "          google.colab.kernel.accessAllowed ? 'block' : 'none';\n",
              "\n",
              "        async function convertToInteractive(key) {\n",
              "          const element = document.querySelector('#df-1aac583b-98c3-4761-b8bb-863d2db4f9df');\n",
              "          const dataTable =\n",
              "            await google.colab.kernel.invokeFunction('convertToInteractive',\n",
              "                                                     [key], {});\n",
              "          if (!dataTable) return;\n",
              "\n",
              "          const docLinkHtml = 'Like what you see? Visit the ' +\n",
              "            '<a target=\"_blank\" href=https://colab.research.google.com/notebooks/data_table.ipynb>data table notebook</a>'\n",
              "            + ' to learn more about interactive tables.';\n",
              "          element.innerHTML = '';\n",
              "          dataTable['output_type'] = 'display_data';\n",
              "          await google.colab.output.renderOutput(dataTable, element);\n",
              "          const docLink = document.createElement('div');\n",
              "          docLink.innerHTML = docLinkHtml;\n",
              "          element.appendChild(docLink);\n",
              "        }\n",
              "      </script>\n",
              "    </div>\n",
              "  </div>\n"
            ]
          },
          "metadata": {},
          "execution_count": 9
        }
      ]
    },
    {
      "cell_type": "code",
      "source": [
        "enriched_train_features = enricher.transform(train_features,keep_input = True)\n",
        "enriched_train_features = enricher.transform(test_features,keep_input = True)\n",
        "\n",
        "enriched_train_features.head()"
      ],
      "metadata": {
        "colab": {
          "base_uri": "https://localhost:8080/",
          "height": 791
        },
        "id": "NBy6BaOvXa01",
        "outputId": "999e4ab7-ac89-44d0-eb9a-0d8234570eb1"
      },
      "execution_count": 10,
      "outputs": [
        {
          "output_type": "stream",
          "name": "stdout",
          "text": [
            "\n",
            "WARNING: Search started with DATE search key only\n",
            "Try to add other keys like the COUNTRY, POSTAL_CODE, PHONE NUMBER, EMAIL/HEM, IPv4 to your training dataset\n",
            "for search through all the available data sources.\n",
            "See docs https://github.com/upgini/upgini#-total-239-countries-and-up-to-41-years-of-history\n"
          ]
        },
        {
          "output_type": "display_data",
          "data": {
            "text/plain": [
              "<IPython.core.display.HTML object>"
            ],
            "text/html": [
              "<table><tr><th style='font-weight:bold'>Column name</th><th style='font-weight:bold'>Status</th><th style='font-weight:bold'>Errors</th></tr><tr><td>date</td><td style='background-color:#DAF7A6;color:black'>All valid</td><td>-</td></tr></table>"
            ]
          },
          "metadata": {}
        },
        {
          "output_type": "stream",
          "name": "stdout",
          "text": [
            "\n",
            "Running search request, search_id=061f0958-b88a-4764-babb-8e5603c4e6c1\n",
            "We'll send email notification once it's completed, just use your personal api_key from profile.upgini.com\n",
            "\n",
            "Retrieving selected features from data sources...\n",
            "\n",
            "WARNING: Search started with DATE search key only\n",
            "Try to add other keys like the COUNTRY, POSTAL_CODE, PHONE NUMBER, EMAIL/HEM, IPv4 to your training dataset\n",
            "for search through all the available data sources.\n",
            "See docs https://github.com/upgini/upgini#-total-239-countries-and-up-to-41-years-of-history\n"
          ]
        },
        {
          "output_type": "display_data",
          "data": {
            "text/plain": [
              "<IPython.core.display.HTML object>"
            ],
            "text/html": [
              "<table><tr><th style='font-weight:bold'>Column name</th><th style='font-weight:bold'>Status</th><th style='font-weight:bold'>Errors</th></tr><tr><td>date</td><td style='background-color:#DAF7A6;color:black'>All valid</td><td>-</td></tr></table>"
            ]
          },
          "metadata": {}
        },
        {
          "output_type": "stream",
          "name": "stdout",
          "text": [
            "\n",
            "Running search request, search_id=48621c37-5704-4705-97b3-592d39340c46\n",
            "We'll send email notification once it's completed, just use your personal api_key from profile.upgini.com\n",
            "\n",
            "Retrieving selected features from data sources...\n"
          ]
        },
        {
          "output_type": "execute_result",
          "data": {
            "text/plain": [
              "            date store item  f_events_date_week_sin1_847b5db1  \\\n",
              "15213 2017-01-01     1   44                         -0.781831   \n",
              "15214 2017-01-01     4   25                         -0.781831   \n",
              "15215 2017-01-01     3   15                         -0.781831   \n",
              "15216 2017-01-01     9   50                         -0.781831   \n",
              "15217 2017-01-01     4   37                         -0.781831   \n",
              "\n",
              "       f_events_date_year_cos1_9014a856  f_events_date_week_cos3_7525fe31  \\\n",
              "15213                           0.98522                         -0.900969   \n",
              "15214                           0.98522                         -0.900969   \n",
              "15215                           0.98522                         -0.900969   \n",
              "15216                           0.98522                         -0.900969   \n",
              "15217                           0.98522                         -0.900969   \n",
              "\n",
              "       f_financial_date_silver_7d_to_7d_1y_shift_55fa8001  \\\n",
              "15213                                            1.13758    \n",
              "15214                                            1.13758    \n",
              "15215                                            1.13758    \n",
              "15216                                            1.13758    \n",
              "15217                                            1.13758    \n",
              "\n",
              "       f_financial_date_nasdaq_7d_to_1y_b00bfaa7  \\\n",
              "15213                                   1.090387   \n",
              "15214                                   1.090387   \n",
              "15215                                   1.090387   \n",
              "15216                                   1.090387   \n",
              "15217                                   1.090387   \n",
              "\n",
              "       f_financial_date_stoxx_043cbcd4  f_economic_date_cbpol_pca_2_33d6e3fc  \\\n",
              "15213                       361.420013                              1.898013   \n",
              "15214                       361.420013                              1.898013   \n",
              "15215                       361.420013                              1.898013   \n",
              "15216                       361.420013                              1.898013   \n",
              "15217                       361.420013                              1.898013   \n",
              "\n",
              "       f_economic_date_cbpol_pca_9_bde660b4  f_events_date_year_sin1_3c44bc64  \\\n",
              "15213                             -0.366616                          0.171293   \n",
              "15214                             -0.366616                          0.171293   \n",
              "15215                             -0.366616                          0.171293   \n",
              "15216                             -0.366616                          0.171293   \n",
              "15217                             -0.366616                          0.171293   \n",
              "\n",
              "       f_economic_date_cbpol_umap_4_c5ce4e90  \\\n",
              "15213                               5.408277   \n",
              "15214                               5.408277   \n",
              "15215                               5.408277   \n",
              "15216                               5.408277   \n",
              "15217                               5.408277   \n",
              "\n",
              "       f_economic_date_cci_pca_3_10646e17  f_economic_date_cpi_umap_7_20d961e2  \n",
              "15213                             4.14775                             0.150985  \n",
              "15214                             4.14775                             0.150985  \n",
              "15215                             4.14775                             0.150985  \n",
              "15216                             4.14775                             0.150985  \n",
              "15217                             4.14775                             0.150985  "
            ],
            "text/html": [
              "\n",
              "\n",
              "  <div id=\"df-f346cf00-059e-4f28-bfcd-5fcc6ca8841b\">\n",
              "    <div class=\"colab-df-container\">\n",
              "      <div>\n",
              "<style scoped>\n",
              "    .dataframe tbody tr th:only-of-type {\n",
              "        vertical-align: middle;\n",
              "    }\n",
              "\n",
              "    .dataframe tbody tr th {\n",
              "        vertical-align: top;\n",
              "    }\n",
              "\n",
              "    .dataframe thead th {\n",
              "        text-align: right;\n",
              "    }\n",
              "</style>\n",
              "<table border=\"1\" class=\"dataframe\">\n",
              "  <thead>\n",
              "    <tr style=\"text-align: right;\">\n",
              "      <th></th>\n",
              "      <th>date</th>\n",
              "      <th>store</th>\n",
              "      <th>item</th>\n",
              "      <th>f_events_date_week_sin1_847b5db1</th>\n",
              "      <th>f_events_date_year_cos1_9014a856</th>\n",
              "      <th>f_events_date_week_cos3_7525fe31</th>\n",
              "      <th>f_financial_date_silver_7d_to_7d_1y_shift_55fa8001</th>\n",
              "      <th>f_financial_date_nasdaq_7d_to_1y_b00bfaa7</th>\n",
              "      <th>f_financial_date_stoxx_043cbcd4</th>\n",
              "      <th>f_economic_date_cbpol_pca_2_33d6e3fc</th>\n",
              "      <th>f_economic_date_cbpol_pca_9_bde660b4</th>\n",
              "      <th>f_events_date_year_sin1_3c44bc64</th>\n",
              "      <th>f_economic_date_cbpol_umap_4_c5ce4e90</th>\n",
              "      <th>f_economic_date_cci_pca_3_10646e17</th>\n",
              "      <th>f_economic_date_cpi_umap_7_20d961e2</th>\n",
              "    </tr>\n",
              "  </thead>\n",
              "  <tbody>\n",
              "    <tr>\n",
              "      <th>15213</th>\n",
              "      <td>2017-01-01</td>\n",
              "      <td>1</td>\n",
              "      <td>44</td>\n",
              "      <td>-0.781831</td>\n",
              "      <td>0.98522</td>\n",
              "      <td>-0.900969</td>\n",
              "      <td>1.13758</td>\n",
              "      <td>1.090387</td>\n",
              "      <td>361.420013</td>\n",
              "      <td>1.898013</td>\n",
              "      <td>-0.366616</td>\n",
              "      <td>0.171293</td>\n",
              "      <td>5.408277</td>\n",
              "      <td>4.14775</td>\n",
              "      <td>0.150985</td>\n",
              "    </tr>\n",
              "    <tr>\n",
              "      <th>15214</th>\n",
              "      <td>2017-01-01</td>\n",
              "      <td>4</td>\n",
              "      <td>25</td>\n",
              "      <td>-0.781831</td>\n",
              "      <td>0.98522</td>\n",
              "      <td>-0.900969</td>\n",
              "      <td>1.13758</td>\n",
              "      <td>1.090387</td>\n",
              "      <td>361.420013</td>\n",
              "      <td>1.898013</td>\n",
              "      <td>-0.366616</td>\n",
              "      <td>0.171293</td>\n",
              "      <td>5.408277</td>\n",
              "      <td>4.14775</td>\n",
              "      <td>0.150985</td>\n",
              "    </tr>\n",
              "    <tr>\n",
              "      <th>15215</th>\n",
              "      <td>2017-01-01</td>\n",
              "      <td>3</td>\n",
              "      <td>15</td>\n",
              "      <td>-0.781831</td>\n",
              "      <td>0.98522</td>\n",
              "      <td>-0.900969</td>\n",
              "      <td>1.13758</td>\n",
              "      <td>1.090387</td>\n",
              "      <td>361.420013</td>\n",
              "      <td>1.898013</td>\n",
              "      <td>-0.366616</td>\n",
              "      <td>0.171293</td>\n",
              "      <td>5.408277</td>\n",
              "      <td>4.14775</td>\n",
              "      <td>0.150985</td>\n",
              "    </tr>\n",
              "    <tr>\n",
              "      <th>15216</th>\n",
              "      <td>2017-01-01</td>\n",
              "      <td>9</td>\n",
              "      <td>50</td>\n",
              "      <td>-0.781831</td>\n",
              "      <td>0.98522</td>\n",
              "      <td>-0.900969</td>\n",
              "      <td>1.13758</td>\n",
              "      <td>1.090387</td>\n",
              "      <td>361.420013</td>\n",
              "      <td>1.898013</td>\n",
              "      <td>-0.366616</td>\n",
              "      <td>0.171293</td>\n",
              "      <td>5.408277</td>\n",
              "      <td>4.14775</td>\n",
              "      <td>0.150985</td>\n",
              "    </tr>\n",
              "    <tr>\n",
              "      <th>15217</th>\n",
              "      <td>2017-01-01</td>\n",
              "      <td>4</td>\n",
              "      <td>37</td>\n",
              "      <td>-0.781831</td>\n",
              "      <td>0.98522</td>\n",
              "      <td>-0.900969</td>\n",
              "      <td>1.13758</td>\n",
              "      <td>1.090387</td>\n",
              "      <td>361.420013</td>\n",
              "      <td>1.898013</td>\n",
              "      <td>-0.366616</td>\n",
              "      <td>0.171293</td>\n",
              "      <td>5.408277</td>\n",
              "      <td>4.14775</td>\n",
              "      <td>0.150985</td>\n",
              "    </tr>\n",
              "  </tbody>\n",
              "</table>\n",
              "</div>\n",
              "      <button class=\"colab-df-convert\" onclick=\"convertToInteractive('df-f346cf00-059e-4f28-bfcd-5fcc6ca8841b')\"\n",
              "              title=\"Convert this dataframe to an interactive table.\"\n",
              "              style=\"display:none;\">\n",
              "\n",
              "  <svg xmlns=\"http://www.w3.org/2000/svg\" height=\"24px\"viewBox=\"0 0 24 24\"\n",
              "       width=\"24px\">\n",
              "    <path d=\"M0 0h24v24H0V0z\" fill=\"none\"/>\n",
              "    <path d=\"M18.56 5.44l.94 2.06.94-2.06 2.06-.94-2.06-.94-.94-2.06-.94 2.06-2.06.94zm-11 1L8.5 8.5l.94-2.06 2.06-.94-2.06-.94L8.5 2.5l-.94 2.06-2.06.94zm10 10l.94 2.06.94-2.06 2.06-.94-2.06-.94-.94-2.06-.94 2.06-2.06.94z\"/><path d=\"M17.41 7.96l-1.37-1.37c-.4-.4-.92-.59-1.43-.59-.52 0-1.04.2-1.43.59L10.3 9.45l-7.72 7.72c-.78.78-.78 2.05 0 2.83L4 21.41c.39.39.9.59 1.41.59.51 0 1.02-.2 1.41-.59l7.78-7.78 2.81-2.81c.8-.78.8-2.07 0-2.86zM5.41 20L4 18.59l7.72-7.72 1.47 1.35L5.41 20z\"/>\n",
              "  </svg>\n",
              "      </button>\n",
              "\n",
              "\n",
              "\n",
              "    <div id=\"df-092f6eef-da5e-4aad-aac1-ca1e185e30c5\">\n",
              "      <button class=\"colab-df-quickchart\" onclick=\"quickchart('df-092f6eef-da5e-4aad-aac1-ca1e185e30c5')\"\n",
              "              title=\"Suggest charts.\"\n",
              "              style=\"display:none;\">\n",
              "\n",
              "<svg xmlns=\"http://www.w3.org/2000/svg\" height=\"24px\"viewBox=\"0 0 24 24\"\n",
              "     width=\"24px\">\n",
              "    <g>\n",
              "        <path d=\"M19 3H5c-1.1 0-2 .9-2 2v14c0 1.1.9 2 2 2h14c1.1 0 2-.9 2-2V5c0-1.1-.9-2-2-2zM9 17H7v-7h2v7zm4 0h-2V7h2v10zm4 0h-2v-4h2v4z\"/>\n",
              "    </g>\n",
              "</svg>\n",
              "      </button>\n",
              "    </div>\n",
              "\n",
              "<style>\n",
              "  .colab-df-quickchart {\n",
              "    background-color: #E8F0FE;\n",
              "    border: none;\n",
              "    border-radius: 50%;\n",
              "    cursor: pointer;\n",
              "    display: none;\n",
              "    fill: #1967D2;\n",
              "    height: 32px;\n",
              "    padding: 0 0 0 0;\n",
              "    width: 32px;\n",
              "  }\n",
              "\n",
              "  .colab-df-quickchart:hover {\n",
              "    background-color: #E2EBFA;\n",
              "    box-shadow: 0px 1px 2px rgba(60, 64, 67, 0.3), 0px 1px 3px 1px rgba(60, 64, 67, 0.15);\n",
              "    fill: #174EA6;\n",
              "  }\n",
              "\n",
              "  [theme=dark] .colab-df-quickchart {\n",
              "    background-color: #3B4455;\n",
              "    fill: #D2E3FC;\n",
              "  }\n",
              "\n",
              "  [theme=dark] .colab-df-quickchart:hover {\n",
              "    background-color: #434B5C;\n",
              "    box-shadow: 0px 1px 3px 1px rgba(0, 0, 0, 0.15);\n",
              "    filter: drop-shadow(0px 1px 2px rgba(0, 0, 0, 0.3));\n",
              "    fill: #FFFFFF;\n",
              "  }\n",
              "</style>\n",
              "\n",
              "    <script>\n",
              "      async function quickchart(key) {\n",
              "        const containerElement = document.querySelector('#' + key);\n",
              "        const charts = await google.colab.kernel.invokeFunction(\n",
              "            'suggestCharts', [key], {});\n",
              "      }\n",
              "    </script>\n",
              "\n",
              "      <script>\n",
              "\n",
              "function displayQuickchartButton(domScope) {\n",
              "  let quickchartButtonEl =\n",
              "    domScope.querySelector('#df-092f6eef-da5e-4aad-aac1-ca1e185e30c5 button.colab-df-quickchart');\n",
              "  quickchartButtonEl.style.display =\n",
              "    google.colab.kernel.accessAllowed ? 'block' : 'none';\n",
              "}\n",
              "\n",
              "        displayQuickchartButton(document);\n",
              "      </script>\n",
              "      <style>\n",
              "    .colab-df-container {\n",
              "      display:flex;\n",
              "      flex-wrap:wrap;\n",
              "      gap: 12px;\n",
              "    }\n",
              "\n",
              "    .colab-df-convert {\n",
              "      background-color: #E8F0FE;\n",
              "      border: none;\n",
              "      border-radius: 50%;\n",
              "      cursor: pointer;\n",
              "      display: none;\n",
              "      fill: #1967D2;\n",
              "      height: 32px;\n",
              "      padding: 0 0 0 0;\n",
              "      width: 32px;\n",
              "    }\n",
              "\n",
              "    .colab-df-convert:hover {\n",
              "      background-color: #E2EBFA;\n",
              "      box-shadow: 0px 1px 2px rgba(60, 64, 67, 0.3), 0px 1px 3px 1px rgba(60, 64, 67, 0.15);\n",
              "      fill: #174EA6;\n",
              "    }\n",
              "\n",
              "    [theme=dark] .colab-df-convert {\n",
              "      background-color: #3B4455;\n",
              "      fill: #D2E3FC;\n",
              "    }\n",
              "\n",
              "    [theme=dark] .colab-df-convert:hover {\n",
              "      background-color: #434B5C;\n",
              "      box-shadow: 0px 1px 3px 1px rgba(0, 0, 0, 0.15);\n",
              "      filter: drop-shadow(0px 1px 2px rgba(0, 0, 0, 0.3));\n",
              "      fill: #FFFFFF;\n",
              "    }\n",
              "  </style>\n",
              "\n",
              "      <script>\n",
              "        const buttonEl =\n",
              "          document.querySelector('#df-f346cf00-059e-4f28-bfcd-5fcc6ca8841b button.colab-df-convert');\n",
              "        buttonEl.style.display =\n",
              "          google.colab.kernel.accessAllowed ? 'block' : 'none';\n",
              "\n",
              "        async function convertToInteractive(key) {\n",
              "          const element = document.querySelector('#df-f346cf00-059e-4f28-bfcd-5fcc6ca8841b');\n",
              "          const dataTable =\n",
              "            await google.colab.kernel.invokeFunction('convertToInteractive',\n",
              "                                                     [key], {});\n",
              "          if (!dataTable) return;\n",
              "\n",
              "          const docLinkHtml = 'Like what you see? Visit the ' +\n",
              "            '<a target=\"_blank\" href=https://colab.research.google.com/notebooks/data_table.ipynb>data table notebook</a>'\n",
              "            + ' to learn more about interactive tables.';\n",
              "          element.innerHTML = '';\n",
              "          dataTable['output_type'] = 'display_data';\n",
              "          await google.colab.output.renderOutput(dataTable, element);\n",
              "          const docLink = document.createElement('div');\n",
              "          docLink.innerHTML = docLinkHtml;\n",
              "          element.appendChild(docLink);\n",
              "        }\n",
              "      </script>\n",
              "    </div>\n",
              "  </div>\n"
            ]
          },
          "metadata": {},
          "execution_count": 10
        }
      ]
    },
    {
      "cell_type": "code",
      "source": [
        "model.fit(train_features,train_target)\n",
        "preds = model.predict(test_features)\n",
        "\n",
        "eval_metric(test_target.values,preds,\"SMAPE\")"
      ],
      "metadata": {
        "colab": {
          "base_uri": "https://localhost:8080/"
        },
        "id": "gUA3fM5fYAbk",
        "outputId": "c8b4f88d-c877-443b-c1b0-0938861a5124"
      },
      "execution_count": 11,
      "outputs": [
        {
          "output_type": "execute_result",
          "data": {
            "text/plain": [
              "[37.65141857448004]"
            ]
          },
          "metadata": {},
          "execution_count": 11
        }
      ]
    }
  ]
}